{
 "cells": [
  {
   "cell_type": "code",
   "execution_count": 5,
   "id": "994f223e",
   "metadata": {},
   "outputs": [
    {
     "data": {
      "image/png": "[encoded data removed]",
      "text/plain": [
       "<Figure size 720x720 with 1 Axes>"
      ]
     },
     "metadata": {
      "needs_background": "light"
     },
     "output_type": "display_data"
    },
    {
     "data": {
      "application/vnd.jupyter.widget-view+json": {
       "model_id": "c52a3a177ad54c41ac527761665e6c59",
       "version_major": 2,
       "version_minor": 0
      },
      "text/plain": [
       "interactive(children=(IntSlider(value=0, continuous_update=False, description='Transport:'), Output()), _dom_c…"
      ]
     },
     "metadata": {},
     "output_type": "display_data"
    },
    {
     "data": {
      "application/vnd.jupyter.widget-view+json": {
       "model_id": "59dcb1e286654770911e9791b11d494a",
       "version_major": 2,
       "version_minor": 0
      },
      "text/plain": [
       "interactive(children=(IntSlider(value=0, continuous_update=False, description='Population:'), Output()), _dom_…"
      ]
     },
     "metadata": {},
     "output_type": "display_data"
    },
    {
     "data": {
      "application/vnd.jupyter.widget-view+json": {
       "model_id": "07c954c625aa47ee8e7bf386e79d00a2",
       "version_major": 2,
       "version_minor": 0
      },
      "text/plain": [
       "interactive(children=(IntSlider(value=0, continuous_update=False, description='Geology:'), Output()), _dom_cla…"
      ]
     },
     "metadata": {},
     "output_type": "display_data"
    },
    {
     "data": {
      "text/plain": [
       "\"\\n\\nI need to get the pixels of each scrollbar, add them together and then divide them by the total of the scrollbars (300) to re-range the dataset back to 0-255\\n(geology x scrollbargeology) + (population x scrollbarpopulation) + (transport x scrollbartransport) /300-scrollbar\\n---------------------------------------------------------------------\\nTrying to update map from scrollbar\\ndef update(df_main):\\n    fig.clear() \\n    \\ndef run():\\n    \\n    canvas.draw() \\n\\n\\n---------------------------------------------------------------\\nSetting values to 1, Dont really know what im doing\\ndf_main[]\\nfor value in dataframe:\\n    for value between [:.] in raw:\\n        if value != 0:\\n            set value = 1\\n            update dataframe\\n        else:\\n            update dataframe   \\n    \\n----------------------------------------------------------------- \\nfor value in dataframe:\\n    for value between [:.] in raw:\\n        if value != 0:\\n            set value = /100 #gettign fraction of number\\n                            #   assign how much of each value will\\n-----------------------------------------------------------------\\nFor extra marks:\\nShow top 10 , getting largest areas\\ndf['fig_main'].nlargest(n=10)\\ndf_main.nlargest(n=10)????\\n\""
      ]
     },
     "execution_count": 5,
     "metadata": {},
     "output_type": "execute_result"
    }
   ],
   "source": [
    "#used libraries\n",
    "#import tkinter as tk\n",
    "import pandas as pd\n",
    "import matplotlib.pyplot as plt\n",
    "from ipywidgets import IntSlider, interact\n",
    "import numpy as np\n",
    "from matplotlib import colors\n",
    "\n",
    "#assigning the variables\n",
    "df_transport = pd.read_csv (r'\\Users\\nisan\\Documents\\Semester 2\\ProgrammingGEOG55\\assignment2\\transport.csv') \n",
    "df_population = pd.read_csv (r'\\Users\\nisan\\Documents\\Semester 2\\ProgrammingGEOG55\\assignment2\\population.csv') \n",
    "df_geology = pd.read_csv (r'\\Users\\nisan\\Documents\\Semester 2\\ProgrammingGEOG55\\assignment2\\geology.csv')\n",
    "\n",
    "\n",
    "#display map result\n",
    "#plt.title(\"Geology\", fontsize=12)\n",
    "#plotting the graph in matplotlib.pyplot as 'plt'\n",
    "#plt.xlim(0,335) #defining the grid, x, y and title\n",
    "#plt.ylim(525,0)\n",
    "#plt.xlabel(\"X axis\")\n",
    "#plt.xticks(np.arange(0, 0))\n",
    "#plt.ylabel(\"Y axis\")\n",
    "#plt.yticks(np.arange(0, 0))\n",
    "#plt.get_cmap('magma') # SETS THE COLOUR FRAME \n",
    "\n",
    "#Display map results\n",
    "#plt.imshow(df_transport)\n",
    "#plt.show() \n",
    "#plt.imshow(df_population)\n",
    "#plt.show()\n",
    "#plt.imshow(df_geology)\n",
    "#plt.show()\n",
    "\n",
    "#adding in sliders\n",
    "slider_transport = IntSlider(\n",
    "    value=0,\n",
    "    min=0,\n",
    "    max=100,\n",
    "    step=1,\n",
    "    disabled=False,\n",
    "    continuous_update=False,\n",
    "    orientation='horizontal',\n",
    "    readout=True,\n",
    "    readout_format='d',\n",
    "    description='Transport:')\n",
    "\n",
    "\"\"\"\n",
    "Trying to assign function to get value of the slider\n",
    "\n",
    "def slider_transport(val):\n",
    "    print (val)\n",
    "\"\"\"\n",
    "\n",
    "slider_population = IntSlider(\n",
    "    value=0,\n",
    "    min=0,\n",
    "    max=100,\n",
    "    step=1,\n",
    "    disabled=False,\n",
    "    continuous_update=False,\n",
    "    orientation='horizontal',\n",
    "    readout=True,\n",
    "    readout_format='d',\n",
    "    description='Population:')\n",
    "\n",
    "\n",
    "slider_geology = IntSlider(\n",
    "    value=0,\n",
    "    min=0,\n",
    "    max=100,\n",
    "    step=1,\n",
    "    disabled=False,\n",
    "    continuous_update=False,\n",
    "    orientation='horizontal',\n",
    "    readout=True,\n",
    "    readout_format='d',\n",
    "    description='Geology:')\n",
    "\n",
    "\n",
    "\"\"\"\n",
    "Trying to set up resest button \n",
    "\n",
    "slider_reset = IntSlider(\n",
    "    value=0)\n",
    "button = Button(slider_reset, 'Reset', hovercolor='0.975')\n",
    "\n",
    "def reset(event):\n",
    "    slider_population.reset()\n",
    "    slider_geology.reset()\n",
    "    slider_transport.reset()\n",
    "button.on_clicked(reset)\n",
    "\n",
    "----------------------------------------------------------------------\n",
    "\n",
    "\n",
    "how to save in the file \n",
    "The imsave() displayes an image it saves it to a file. In the file each element of the numpy \n",
    "array describes one pixel. \n",
    "Example code:\n",
    "n = 500\n",
    "# create an nxn numpy array\n",
    "a = np.random.random((n,n))\n",
    "# save the image to a file 'test.png' using  the 'jet' color map to specify colors\n",
    "plt.imsave('test.png', a, cmap = 'inferno')\n",
    "- To save as image \n",
    "plt.savefig('redwhite.pdf')\n",
    "\"\"\"\n",
    "\n",
    "fig_main = plt.figure(figsize=(10,10)) #setting the defult size of the model window that it opens up as\n",
    "\n",
    "cmap = colors.ListedColormap(['white', 'black']) #make it grey later on  \n",
    "df_main = df_transport + df_population + df_geology # Merging layers \n",
    "\n",
    "plt.imshow(df_main, cmap=cmap)\n",
    "plt.title(\"Main Map\", fontsize=12)\n",
    "plt.show()\n",
    "#plt.imsave('df_main.png', cmap='inferno') #shows blank, missing arr argurment(define array,set x and y???)\n",
    "\n",
    "\"\"\"\n",
    "-----------------------------------------------------       \n",
    "Trying to get functions to update map according to slider \n",
    "slider_population=\n",
    "slider_geology=\n",
    "slider_transport=\n",
    "?????\n",
    "t=\n",
    "def f (t, population, geology, transport)\n",
    "        \n",
    "def slider_update (val):\n",
    "       l.set_ydata(f(slider_population.val, slider_geology.val, slider_transport.val))\n",
    "        fig.canvas.draw_idle()\n",
    "    l.set_xdata..\n",
    "\n",
    "\"\"\"\n",
    "\n",
    "def square1(number): \n",
    "    return None\n",
    "\n",
    "interact(square1, number=slider_transport)\n",
    "interact(square1, number=slider_population)\n",
    "interact(square1, number=slider_geology)\n",
    "\n",
    "\"\"\"\n",
    "\n",
    "I need to get the pixels of each scrollbar, add them together and then divide them by the total of the scrollbars (300) to re-range the dataset back to 0-255\n",
    "(geology x scrollbargeology) + (population x scrollbarpopulation) + (transport x scrollbartransport) /300-scrollbar\n",
    "---------------------------------------------------------------------\n",
    "Trying to update map from scrollbar\n",
    "def update(df_main):\n",
    "    fig.clear() \n",
    "    \n",
    "def run():\n",
    "    \n",
    "    canvas.draw() \n",
    "\n",
    "\n",
    "---------------------------------------------------------------\n",
    "Setting values to 1, Dont really know what im doing\n",
    "df_main[]\n",
    "for value in dataframe:\n",
    "    for value between [:.] in raw:\n",
    "        if value != 0:\n",
    "            set value = 1\n",
    "            update dataframe\n",
    "        else:\n",
    "            update dataframe   \n",
    "    \n",
    "----------------------------------------------------------------- \n",
    "for value in dataframe:\n",
    "    for value between [:.] in raw:\n",
    "        if value != 0:\n",
    "            set value = /100 #gettign fraction of number\n",
    "                            #   assign how much of each value will\n",
    "-----------------------------------------------------------------\n",
    "For extra marks:\n",
    "Show top 10 , getting largest areas\n",
    "df['fig_main'].nlargest(n=10)\n",
    "df_main.nlargest(n=10)????\n",
    "\"\"\""
   ]
  },
  {
   "cell_type": "code",
   "execution_count": 7,
   "id": "ed108d50",
   "metadata": {},
   "outputs": [
    {
     "data": {
      "image/png": "[encoded data removed]",
      "text/plain": [
       "<Figure size 720x720 with 1 Axes>"
      ]
     },
     "metadata": {
      "needs_background": "light"
     },
     "output_type": "display_data"
    },
    {
     "data": {
      "application/vnd.jupyter.widget-view+json": {
       "model_id": "9de192e7a2754e3fa9caa4c8b56b41c8",
       "version_major": 2,
       "version_minor": 0
      },
      "text/plain": [
       "interactive(children=(IntSlider(value=0, continuous_update=False, description='Transport:'), Output()), _dom_c…"
      ]
     },
     "metadata": {},
     "output_type": "display_data"
    },
    {
     "data": {
      "application/vnd.jupyter.widget-view+json": {
       "model_id": "b66aa23eb1aa4949ac797037fe8dd528",
       "version_major": 2,
       "version_minor": 0
      },
      "text/plain": [
       "interactive(children=(IntSlider(value=0, continuous_update=False, description='Population:'), Output()), _dom_…"
      ]
     },
     "metadata": {},
     "output_type": "display_data"
    },
    {
     "data": {
      "application/vnd.jupyter.widget-view+json": {
       "model_id": "ba26580a534448f1aee868e847b569f9",
       "version_major": 2,
       "version_minor": 0
      },
      "text/plain": [
       "interactive(children=(IntSlider(value=0, continuous_update=False, description='Geology:'), Output()), _dom_cla…"
      ]
     },
     "metadata": {},
     "output_type": "display_data"
    },
    {
     "data": {
      "text/plain": [
       "<function __main__.square1(number)>"
      ]
     },
     "execution_count": 7,
     "metadata": {},
     "output_type": "execute_result"
    }
   ],
   "source": [
    "\n",
    "#used libraries\n",
    "import pandas as pd\n",
    "import matplotlib.pyplot as plt\n",
    "from ipywidgets import IntSlider, interact\n",
    "import numpy as np\n",
    "from matplotlib import colors\n",
    "\n",
    "#assigning the variables\n",
    "df_transport = pd.read_csv (r'\\Users\\nisan\\Documents\\Semester 2\\ProgrammingGEOG55\\assignment2\\transport.csv') \n",
    "df_population = pd.read_csv (r'\\Users\\nisan\\Documents\\Semester 2\\ProgrammingGEOG55\\assignment2\\population.csv') \n",
    "df_geology = pd.read_csv (r'\\Users\\nisan\\Documents\\Semester 2\\ProgrammingGEOG55\\assignment2\\geology.csv')\n",
    "\n",
    "#adding in sliders\n",
    "slider_transport = IntSlider(\n",
    "    value=0,\n",
    "    min=0,\n",
    "    max=100,\n",
    "    step=1,\n",
    "    disabled=False,\n",
    "    continuous_update=False,\n",
    "    orientation='horizontal',\n",
    "    readout=True,\n",
    "    readout_format='d',\n",
    "    description='Transport:')\n",
    "\n",
    "slider_population = IntSlider(\n",
    "    value=0,\n",
    "    min=0,\n",
    "    max=100,\n",
    "    step=1,\n",
    "    disabled=False,\n",
    "    continuous_update=False,\n",
    "    orientation='horizontal',\n",
    "    readout=True,\n",
    "    readout_format='d',\n",
    "    description='Population:')\n",
    "\n",
    "\n",
    "slider_geology = IntSlider(\n",
    "    value=0,\n",
    "    min=0,\n",
    "    max=100,\n",
    "    step=1,\n",
    "    disabled=False,\n",
    "    continuous_update=False,\n",
    "    orientation='horizontal',\n",
    "    readout=True,\n",
    "    readout_format='d',\n",
    "    description='Geology:')\n",
    "\n",
    "fig_main = plt.figure(figsize=(10,10)) #setting the defult size of the model window that it opens up as\n",
    "\n",
    "cmap = colors.ListedColormap(['white', 'black']) #make it grey later on  \n",
    "df_main = df_transport + df_population + df_geology # Merging layers \n",
    "\n",
    "plt.imshow(df_main, cmap=cmap)\n",
    "plt.title(\"Main Map\", fontsize=12)\n",
    "plt.show()\n",
    "\n",
    "def square1(number): \n",
    "    return None\n",
    "\n",
    "interact(square1, number=slider_transport)\n",
    "interact(square1, number=slider_population)\n",
    "interact(square1, number=slider_geology)"
   ]
  },
  {
   "cell_type": "code",
   "execution_count": null,
   "id": "7cab7d98",
   "metadata": {},
   "outputs": [],
   "source": []
  }
 ],
 "metadata": {
  "kernelspec": {
   "display_name": "Python 3",
   "language": "python",
   "name": "python3"
  },
  "language_info": {
   "codemirror_mode": {
    "name": "ipython",
    "version": 3
   },
   "file_extension": ".py",
   "mimetype": "text/x-python",
   "name": "python",
   "nbconvert_exporter": "python",
   "pygments_lexer": "ipython3",
   "version": "3.7.11"
  }
 },
 "nbformat": 4,
 "nbformat_minor": 5
}
